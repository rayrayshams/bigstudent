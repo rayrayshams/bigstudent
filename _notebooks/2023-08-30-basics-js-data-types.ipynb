{
 "cells": [
  {
   "cell_type": "raw",
   "metadata": {},
   "source": [
    "---\n",
    "title: Javascript Data Types/Lists\n",
    "hide: True\n",
    "description: A Tech Talk on javascript data types and how to use with lists\n",
    "type: hacks\n",
    "courses: courses: { compsci: {week: 5} }\n",
    "comment: true\n",
    "permalink: /basics/datatypes\n",
    "author: Rohan Juneja\n",
    "---"
   ]
  },
  {
   "cell_type": "raw",
   "metadata": {},
   "source": [
    "{% include nav_basics.html %}\n"
   ]
  },
  {
   "cell_type": "markdown",
   "metadata": {},
   "source": [
    "# string datatype\n",
    "- We discussed that strings store text\n",
    "- It is useful to know a few functions that can be used on string manipulation (see example below)\n",
    "- We can see the type of data using `typeof` operator"
   ]
  },
  {
   "cell_type": "code",
   "execution_count": 20,
   "metadata": {
    "vscode": {
     "languageId": "javascript"
    }
   },
   "outputs": [
    {
     "data": {
      "application/javascript": "\n// assign variable\nvar hello = \"Hello World\";\nconsole.log(\"variable: hello\")\nconsole.log(hello)\n\n// seeing the type of this data\nconsole.log(\"variable: hello check typeof\")\nconsole.log(typeof hello)\n\n// add strings together\nconsole.log(\"string concatenation: hello + Rohan!\")\nconsole.log(hello + \" Rohan!\")\n",
      "text/plain": [
       "<IPython.core.display.Javascript object>"
      ]
     },
     "metadata": {},
     "output_type": "display_data"
    }
   ],
   "source": [
    "%%js\n",
    "\n",
    "// assign variable\n",
    "var hello = \"Hello World\";\n",
    "console.log(\"variable: hello\")\n",
    "console.log(hello)\n",
    "\n",
    "// seeing the type of this data\n",
    "console.log(\"variable: hello check typeof\")\n",
    "console.log(typeof hello)\n",
    "\n",
    "// add strings together\n",
    "console.log(\"string concatenation: hello + Rohan!\")\n",
    "console.log(hello + \" Rohan!\")"
   ]
  },
  {
   "cell_type": "markdown",
   "metadata": {},
   "source": [
    "## .substring()"
   ]
  },
  {
   "cell_type": "code",
   "execution_count": 21,
   "metadata": {
    "vscode": {
     "languageId": "javascript"
    }
   },
   "outputs": [
    {
     "data": {
      "application/javascript": "var hello = \"Hello World\";\n\n// getting a certain component of this text\n// (here the _ is a standin for the space character)\n// H  e  l  l  o  _  W  o  r  l  d\n// 0  1  2  3  4  5  6  7  8  9  10\n// if we want the hello component, we want characters 0-4, so we use the following function\n// (note how we use 0 and 5 as arguments, the last character is NOT INCLUSIVE)\nconsole.log(\"substring: hello 0, 5\")\nconsole.log(hello.substring(0, 5))\n",
      "text/plain": [
       "<IPython.core.display.Javascript object>"
      ]
     },
     "metadata": {},
     "output_type": "display_data"
    }
   ],
   "source": [
    "%%js\n",
    "var hello = \"Hello World\";\n",
    "\n",
    "// getting a certain component of this text\n",
    "// (here the _ is a standin for the space character)\n",
    "// H  e  l  l  o  _  W  o  r  l  d\n",
    "// 0  1  2  3  4  5  6  7  8  9  10\n",
    "// if we want the hello component, we want characters 0-4, so we use the following function\n",
    "// (note how we use 0 and 5 as arguments, the last character is NOT INCLUSIVE)\n",
    "console.log(\"substring: hello 0, 5\")\n",
    "console.log(hello.substring(0, 5))"
   ]
  },
  {
   "cell_type": "markdown",
   "metadata": {},
   "source": [
    "## .toUpperCase() and .toLowerCase()"
   ]
  },
  {
   "cell_type": "code",
   "execution_count": 22,
   "metadata": {
    "vscode": {
     "languageId": "javascript"
    }
   },
   "outputs": [
    {
     "data": {
      "application/javascript": "var hello = \"Hello World\";\n\n// useful functions to make string lowercase or uppercase\nconsole.log(\"string convert to upper case: hello toUpperCase\")\nconsole.log(hello.toUpperCase())\nconsole.log(\"string convert to lower case: hello toLowerCase\")\nconsole.log(hello.toLowerCase())\n",
      "text/plain": [
       "<IPython.core.display.Javascript object>"
      ]
     },
     "metadata": {},
     "output_type": "display_data"
    }
   ],
   "source": [
    "%%js\n",
    "var hello = \"Hello World\";\n",
    "\n",
    "// useful functions to make string lowercase or uppercase\n",
    "console.log(\"string convert to upper case: hello toUpperCase\")\n",
    "console.log(hello.toUpperCase())\n",
    "console.log(\"string convert to lower case: hello toLowerCase\")\n",
    "console.log(hello.toLowerCase())"
   ]
  },
  {
   "cell_type": "markdown",
   "metadata": {},
   "source": [
    "## .includes()"
   ]
  },
  {
   "cell_type": "code",
   "execution_count": 23,
   "metadata": {
    "vscode": {
     "languageId": "javascript"
    }
   },
   "outputs": [
    {
     "data": {
      "application/javascript": "var hello = \"Hello World\";\n\n// useful function to check if one string is contained in another\nconsole.log(\"string includes: hello includes Rohan\")\nconsole.log(hello.includes(\"Rohan\"))\nconsole.log(\"string includes: hello includes Hello\")\nconsole.log(hello.includes(\"Hello\"))\n",
      "text/plain": [
       "<IPython.core.display.Javascript object>"
      ]
     },
     "metadata": {},
     "output_type": "display_data"
    }
   ],
   "source": [
    "%%js\n",
    "var hello = \"Hello World\";\n",
    "\n",
    "// useful function to check if one string is contained in another\n",
    "console.log(\"string includes: hello includes Rohan\")\n",
    "console.log(hello.includes(\"Rohan\"))\n",
    "console.log(\"string includes: hello includes Hello\")\n",
    "console.log(hello.includes(\"Hello\"))"
   ]
  },
  {
   "cell_type": "markdown",
   "metadata": {},
   "source": [
    "# number datatype\n",
    "- we discussed that numbers store numbers\n",
    "- here are some useful ideas in javascript to deal with numbers"
   ]
  },
  {
   "cell_type": "code",
   "execution_count": 24,
   "metadata": {
    "vscode": {
     "languageId": "javascript"
    }
   },
   "outputs": [
    {
     "data": {
      "application/javascript": "console.log(\"Numbers info\")\n\n// assign numbers to varialbes\nconsole.log(\"variable: num1\")\nvar num1 = 9\nconsole.log(num1)\nconsole.log(\"variable: num2\")\nvar num2 = 6\nconsole.log(num2)\n\n\n// simple operations with numbers\nconsole.log(\"Operations\")\nconsole.log(\"subtract: num1 - num2\")\nconsole.log(num1 - num2)\nconsole.log(\"add: num1 + num2\")\nconsole.log(num1 + num2)\nconsole.log(\"divide: num1 / num2\")\nconsole.log(num1 / num2)\nconsole.log(\"multiply: num1 * num2\")\nconsole.log(num1 * num2)\nconsole.log(\"remainder (modulo): num1 % num2\")\nconsole.log(num1 % num2)\n",
      "text/plain": [
       "<IPython.core.display.Javascript object>"
      ]
     },
     "metadata": {},
     "output_type": "display_data"
    }
   ],
   "source": [
    "%%js\n",
    "console.log(\"Numbers info\")\n",
    "\n",
    "// assign numbers to varialbes\n",
    "console.log(\"variable: num1\")\n",
    "var num1 = 9\n",
    "console.log(num1)\n",
    "console.log(\"variable: num2\")\n",
    "var num2 = 6\n",
    "console.log(num2)\n",
    "\n",
    "\n",
    "// simple operations with numbers\n",
    "console.log(\"Operations\")\n",
    "console.log(\"subtract: num1 - num2\")\n",
    "console.log(num1 - num2)\n",
    "console.log(\"add: num1 + num2\")\n",
    "console.log(num1 + num2)\n",
    "console.log(\"divide: num1 / num2\")\n",
    "console.log(num1 / num2)\n",
    "console.log(\"multiply: num1 * num2\")\n",
    "console.log(num1 * num2)\n",
    "console.log(\"remainder (modulo): num1 % num2\")\n",
    "console.log(num1 % num2)"
   ]
  },
  {
   "cell_type": "markdown",
   "metadata": {},
   "source": [
    "# number formatting"
   ]
  },
  {
   "cell_type": "code",
   "execution_count": 25,
   "metadata": {
    "vscode": {
     "languageId": "javascript"
    }
   },
   "outputs": [
    {
     "data": {
      "application/javascript": "console.log(\"variable: num1\")\nvar num1 = 9\nconsole.log(num1)\nconsole.log(\"variable: num2\")\nvar num2 = 6\nconsole.log(num2)\n\n// converting numbers to text\nconsole.log(\"number convert string: num1\")\nconsole.log(num1.toString())\n\n// rounding a number\nconsole.log(\"round(num1 / num2)\")\nconsole.log(Math.round(num1 / num2))\n\n// rounding a number to decimal palces\nconsole.log(\"set decimals to 2 places (num1 / num2)\")\nconsole.log((num1 / num2).toFixed(2))\n",
      "text/plain": [
       "<IPython.core.display.Javascript object>"
      ]
     },
     "metadata": {},
     "output_type": "display_data"
    }
   ],
   "source": [
    "%%js\n",
    "console.log(\"variable: num1\")\n",
    "var num1 = 9\n",
    "console.log(num1)\n",
    "console.log(\"variable: num2\")\n",
    "var num2 = 6\n",
    "console.log(num2)\n",
    "\n",
    "// converting numbers to text\n",
    "console.log(\"number convert string: num1\")\n",
    "console.log(num1.toString())\n",
    "\n",
    "// rounding a number\n",
    "console.log(\"round(num1 / num2)\")\n",
    "console.log(Math.round(num1 / num2))\n",
    "\n",
    "// rounding a number to decimal palces\n",
    "console.log(\"set decimals to 2 places (num1 / num2)\")\n",
    "console.log((num1 / num2).toFixed(2))"
   ]
  },
  {
   "cell_type": "markdown",
   "metadata": {},
   "source": [
    "# Array datatype\n",
    "- an array is just a list of other datatypes\n",
    "- put all the items in square brackets\n",
    "- some useful methods below"
   ]
  },
  {
   "cell_type": "code",
   "execution_count": 31,
   "metadata": {
    "vscode": {
     "languageId": "javascript"
    }
   },
   "outputs": [
    {
     "data": {
      "application/javascript": "console.log(\"Array: assigning a list of strings\")\nvar str1 = \"1st string\"\nvar arr_data = [str1, \"2nd string\", \"3rd string\"]\n// seeing what is in the array\nconsole.log(arr_data)\n\n// getting one thing from an array\n// \"A string\" \"Other Data\" \"more data\"\n//    0           1            2\nconsole.log(\"Array: referencing a cell #1\")\nconsole.log([ arr_data[1] ])  // zero based counting: 1 is 2nd cell\n",
      "text/plain": [
       "<IPython.core.display.Javascript object>"
      ]
     },
     "metadata": {},
     "output_type": "display_data"
    }
   ],
   "source": [
    "%%js\n",
    "console.log(\"Array: assigning a list of strings\")\n",
    "var str1 = \"1st string\"\n",
    "var arr_data = [str1, \"2nd string\", \"3rd string\"]\n",
    "// seeing what is in the array\n",
    "console.log(arr_data)\n",
    "\n",
    "// getting one thing from an array\n",
    "// \"A string\" \"Other Data\" \"more data\"\n",
    "//    0           1            2\n",
    "console.log(\"Array: referencing a cell #1\")\n",
    "console.log([ arr_data[1] ])  // zero based counting: 1 is 2nd cell\n"
   ]
  },
  {
   "cell_type": "markdown",
   "metadata": {},
   "source": [
    "# array manipulation"
   ]
  },
  {
   "cell_type": "code",
   "execution_count": 27,
   "metadata": {
    "vscode": {
     "languageId": "javascript"
    }
   },
   "outputs": [
    {
     "data": {
      "application/javascript": "console.log(\"Array: assigning a list of strings\")\nvar str1 = \"1st string\"\nvar arr_data = [str1, \"2nd string\", \"3rd string\"]\n// seeing what is in the array\nconsole.log(arr_data)\n\n// adding something new to the array\nconsole.log(\"Array: adding to list\")\narr_data.push(\"4th string\")\nconsole.log(arr_data)\n\n// removing the first element of array\nconsole.log(\"Array: removing from front of list\")\narr_data.shift()\nconsole.log(arr_data)\n\n// removing the last element of array\nconsole.log(\"Array: removing from end of list\")\narr_data.pop()\nconsole.log(arr_data)\n",
      "text/plain": [
       "<IPython.core.display.Javascript object>"
      ]
     },
     "metadata": {},
     "output_type": "display_data"
    }
   ],
   "source": [
    "%%js\n",
    "console.log(\"Array: assigning a list of strings\")\n",
    "var str1 = \"1st string\"\n",
    "var arr_data = [str1, \"2nd string\", \"3rd string\"]\n",
    "// seeing what is in the array\n",
    "console.log(arr_data)\n",
    "\n",
    "// adding something new to the array\n",
    "console.log(\"Array: adding to list\")\n",
    "arr_data.push(\"4th string\")\n",
    "console.log(arr_data)\n",
    "\n",
    "// removing the first element of array\n",
    "console.log(\"Array: removing from front of list\")\n",
    "arr_data.shift()\n",
    "console.log(arr_data)\n",
    "\n",
    "// removing the last element of array\n",
    "console.log(\"Array: removing from end of list\")\n",
    "arr_data.pop()\n",
    "console.log(arr_data)"
   ]
  },
  {
   "cell_type": "markdown",
   "metadata": {},
   "source": [
    "# Object datatype\n",
    "\n",
    "- store records as key-value pairs\n",
    "- are defined by enclosing data in curly braces `{}`\n",
    "- allow access and modification using dot `.` or square bracket `[]` notation"
   ]
  },
  {
   "cell_type": "code",
   "execution_count": 28,
   "metadata": {
    "vscode": {
     "languageId": "javascript"
    }
   },
   "outputs": [
    {
     "data": {
      "application/javascript": "console.log(\"Object: assigning key-value objects\")\nvar obj = {\n    name: \"Safin\",\n    age: 13\n};\n\n// The following is stored in the object called \"obj\"\n// {\n//     name: \"Safin\",\n//     age: 13\n// }\n//\n// The key \"name\" is associated with the string value \"Safin\"\n// The key \"age\" is associated with the number value 13\n// Notice that keys are of the type \"string\"\n\n// print obj to the console\nconsole.log(obj);\n// -> { name: 'Safin', age: 13 }\n// Notice that single quotes ' and double quotes \" can be used interchangeably\n",
      "text/plain": [
       "<IPython.core.display.Javascript object>"
      ]
     },
     "metadata": {},
     "output_type": "display_data"
    }
   ],
   "source": [
    "%%js\n",
    "console.log(\"Object: assigning key-value objects\")\n",
    "var obj = {\n",
    "    name: \"Safin\",\n",
    "    age: 13\n",
    "};\n",
    "\n",
    "// The following is stored in the object called \"obj\"\n",
    "// {\n",
    "//     name: \"Safin\",\n",
    "//     age: 13\n",
    "// }\n",
    "//\n",
    "// The key \"name\" is associated with the string value \"Safin\"\n",
    "// The key \"age\" is associated with the number value 13\n",
    "// Notice that keys are of the type \"string\"\n",
    "\n",
    "// print obj to the console\n",
    "console.log(obj);\n",
    "// -> { name: 'Safin', age: 13 }\n",
    "// Notice that single quotes ' and double quotes \" can be used interchangeably"
   ]
  },
  {
   "cell_type": "markdown",
   "metadata": {},
   "source": [
    "# object access"
   ]
  },
  {
   "cell_type": "code",
   "execution_count": 32,
   "metadata": {
    "vscode": {
     "languageId": "javascript"
    }
   },
   "outputs": [
    {
     "data": {
      "application/javascript": "console.log(\"Object: assigning key-value objects\")\nvar obj = {\n    name: \"Safin\",\n    age: 13\n};\n\n// The following is stored in the object called \"obj\"\n// {\n//     name: \"Safin\",\n//     age: 13\n// }\n//\n// The key \"name\" is associated with the string value \"Safin\"\n// The key \"age\" is associated with the number value 13\n// Notice that keys are of the type \"string\"\n\n// print obj to the console\nconsole.log(obj);\n// -> { name: 'Safin', age: 13 }\n// Notice that single quotes ' and double quotes \" can be used interchangeably\n\n// To access certain values within an object, also known as an object's fields,\n// you can use the name of the object suffixed with a dot and the name of the field\n// or using the square bracket notation shown below\nconsole.log(\"Object: using key name to access the name value (key notation)\")\nconsole.log(obj[\"name\"]);\nconsole.log(\"Object: using key name to access the name value (dot notation)\")\nconsole.log(obj.name);\n// -> Safin\n\n// Fields of an object can be manipulated similar to variables\nconsole.log(\"Object: mutating the key name from Safin to John\")\nobj.name = \"John\"\nconsole.log(obj);\nconsole.log(obj.name);\n// -> John\n\n// A key-value pair can be added to the object\nconsole.log(\"Object: mutating the key name from Safin to John\")\nobj[\"ghid\"] = \"jm1021\"\nconsole.log(obj);\n// Observe new key\n",
      "text/plain": [
       "<IPython.core.display.Javascript object>"
      ]
     },
     "metadata": {},
     "output_type": "display_data"
    }
   ],
   "source": [
    "%%js\n",
    "console.log(\"Object: assigning key-value objects\")\n",
    "var obj = {\n",
    "    name: \"Safin\",\n",
    "    age: 13\n",
    "};\n",
    "\n",
    "// The following is stored in the object called \"obj\"\n",
    "// {\n",
    "//     name: \"Safin\",\n",
    "//     age: 13\n",
    "// }\n",
    "//\n",
    "// The key \"name\" is associated with the string value \"Safin\"\n",
    "// The key \"age\" is associated with the number value 13\n",
    "// Notice that keys are of the type \"string\"\n",
    "\n",
    "// print obj to the console\n",
    "console.log(obj);\n",
    "// -> { name: 'Safin', age: 13 }\n",
    "// Notice that single quotes ' and double quotes \" can be used interchangeably\n",
    "\n",
    "// To access certain values within an object, also known as an object's fields,\n",
    "// you can use the name of the object suffixed with a dot and the name of the field\n",
    "// or using the square bracket notation shown below\n",
    "console.log(\"Object: using key name to access the name value (key notation)\")\n",
    "console.log(obj[\"name\"]);\n",
    "console.log(\"Object: using key name to access the name value (dot notation)\")\n",
    "console.log(obj.name);\n",
    "// -> Safin\n",
    "\n",
    "// Fields of an object can be manipulated similar to variables\n",
    "console.log(\"Object: mutating the key name from Safin to John\")\n",
    "obj.name = \"John\"\n",
    "console.log(obj);\n",
    "console.log(obj.name);\n",
    "// -> John\n",
    "\n",
    "// A key-value pair can be added to the object\n",
    "console.log(\"Object: mutating the key name from Safin to John\")\n",
    "obj[\"ghid\"] = \"jm1021\"\n",
    "console.log(obj);\n",
    "// Observe new key"
   ]
  },
  {
   "cell_type": "markdown",
   "metadata": {},
   "source": [
    "# Hacks\n",
    "Create a JavaScript snippet below with the following requirements:\n",
    "- Create an object representing yourself as a person. The object should have keys for your name, age, current classes, interests, and two more of your choosing\n",
    "- Your object must contain keys whose values are arrays. The arrays can be arrays of strings, numbers, or even other objects if you would like\n",
    "- Print the entire object with console.log after declaring it\n",
    "- Manipulate the arrays within the object and print the entire object with console.log as well as the specific changed key afterwards\n",
    "- Perform mathematical operations on fields in your object such as +, -, /, % etc. and print the results with console.log along with a message contextualizing them\n",
    "- Use typeof to determine the types of at least 3 fields in your object"
   ]
  },
  {
   "cell_type": "code",
   "execution_count": 4,
   "metadata": {
    "vscode": {
     "languageId": "javascript"
    }
   },
   "outputs": [
    {
     "data": {
      "application/javascript": "\n// Create an object representing a person\nlet person = {\n  name: \"Rayhan Shamly\",\n  age: 16,\n  currentClasses: [\"Math\", \"Science\", \"English\"],\n  interests: [\"Coding\", \"Soccer\", \"Having Fun\"],\n  height: 170,\n  weight: 150\n};\n\n// Print the entire object\nconsole.log(person);\n\n// Manipulate the arrays within the object\nperson.currentClasses.push(\"Art\");\nperson.interests.splice(1, 1, \"Volleyball\");\n\n// Print the entire object and the specific changed key\nconsole.log(person);\nconsole.log(\"Updated classes: \", person.currentClasses);\nconsole.log(\"Updated interests: \", person.interests);\n\n// Perform mathematical operations on fields in the object\nlet bmi = person.weight / ((person.height / 100) ** 2);\nconsole.log(`BMI (Body Mass Index) is: ${bmi.toFixed(2)}`);\n\n// Use typeof to determine the types of at least 3 fields in the object\nconsole.log(`Type of 'name' is: ${typeof person.name}`);\nconsole.log(`Type of 'age' is: ${typeof person.age}`);\nconsole.log(`Type of 'currentClasses' is: ${typeof person.currentClasses}`);\n",
      "text/plain": [
       "<IPython.core.display.Javascript object>"
      ]
     },
     "metadata": {},
     "output_type": "display_data"
    }
   ],
   "source": [
    "%%js \n",
    "\n",
    "// Create an object representing a person\n",
    "let person = {\n",
    "  name: \"Rayhan Shamly\",\n",
    "  age: 16,\n",
    "  currentClasses: [\"Math\", \"Science\", \"English\"],\n",
    "  interests: [\"Coding\", \"Soccer\", \"Having Fun\"],\n",
    "  height: 170,\n",
    "  weight: 150\n",
    "};\n",
    "\n",
    "// Print the entire object\n",
    "console.log(person);\n",
    "\n",
    "// Manipulate the arrays within the object\n",
    "person.currentClasses.push(\"Art\");\n",
    "person.interests.splice(1, 1, \"Volleyball\");\n",
    "\n",
    "// Print the entire object and the specific changed key\n",
    "console.log(person);\n",
    "console.log(\"Updated classes: \", person.currentClasses);\n",
    "console.log(\"Updated interests: \", person.interests);\n",
    "\n",
    "// Perform mathematical operations on fields in the object\n",
    "let bmi = person.weight / ((person.height / 100) ** 2);\n",
    "console.log(`BMI (Body Mass Index) is: ${bmi.toFixed(2)}`);\n",
    "\n",
    "// Use typeof to determine the types of at least 3 fields in the object\n",
    "console.log(`Type of 'name' is: ${typeof person.name}`);\n",
    "console.log(`Type of 'age' is: ${typeof person.age}`);\n",
    "console.log(`Type of 'currentClasses' is: ${typeof person.currentClasses}`);"
   ]
  }
 ],
 "metadata": {
  "kernelspec": {
   "display_name": "Python 3 (ipykernel)",
   "language": "python",
   "name": "python3"
  },
  "language_info": {
   "codemirror_mode": {
    "name": "ipython",
    "version": 3
   },
   "file_extension": ".py",
   "mimetype": "text/x-python",
   "name": "python",
   "nbconvert_exporter": "python",
   "pygments_lexer": "ipython3",
   "version": "3.11.4"
  }
 },
 "nbformat": 4,
 "nbformat_minor": 4
}
