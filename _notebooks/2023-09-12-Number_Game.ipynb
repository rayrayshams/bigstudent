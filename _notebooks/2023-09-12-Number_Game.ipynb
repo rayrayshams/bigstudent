{
 "cells": [
  {
   "cell_type": "markdown",
   "metadata": {},
   "source": [
    "---\n",
    "toc: true \n",
    "comments: false \n",
    "layout: post \n",
    "title: Number Guessing Game\n",
    "type: hacks\n",
    "courses: { compsci: {week: 3} }\n",
    "---"
   ]
  },
  {
   "cell_type": "code",
   "execution_count": 1,
   "metadata": {},
   "outputs": [
    {
     "name": "stdout",
     "output_type": "stream",
     "text": [
      "Welcome to the number guessing game! Please input a number.\n",
      "You guessed: 10\n",
      "10 is too high. Try again.\n",
      "You guessed: 5\n",
      "5 is too low. Try again.\n",
      "You guessed: 7\n",
      "7 is too low. Try again.\n",
      "You guessed: 9\n",
      "Congratulations! You guessed the number 9 in 4 attempts.\n"
     ]
    }
   ],
   "source": [
    "import random\n",
    "\n",
    "#Initial message when running the code\n",
    "print(\"Welcome to the number guessing game! Please input a number.\")\n",
    "\n",
    "#This line generates a random number between 1 and 20 to be guessed by the user\n",
    "target_number = random.randint(1, 20)\n",
    "\n",
    "#This variable hold the value of how many attempts the use takes. It starts at 0 attempts\n",
    "attempts = 0\n",
    "\n",
    "#Loop for the game\n",
    "while True:\n",
    "    # Lets the player input their guess\n",
    "    try:\n",
    "        guess = int(input(\"Guess the number: \"))\n",
    "        print(f\"You guessed: {guess}\")\n",
    "        # Rest of your code for processing the guess\n",
    "        attempts += 1\n",
    "    except ValueError:\n",
    "        print(\"Please enter a valid integer.\")\n",
    "        continue\n",
    "\n",
    "    # Check if the guess is correct\n",
    "    #f-strings let you embed variables and expression inside\n",
    "    if guess == target_number:\n",
    "        print(f\"Congratulations! You guessed the number {target_number} in {attempts} attempts.\")\n",
    "        break\n",
    "    elif guess < target_number:\n",
    "        print(f\"{guess} is too low. Try again.\")\n",
    "    else:\n",
    "        print(f\"{guess} is too high. Try again.\")\n"
   ]
  }
 ],
 "metadata": {
  "kernelspec": {
   "display_name": "Python 3",
   "language": "python",
   "name": "python3"
  },
  "language_info": {
   "codemirror_mode": {
    "name": "ipython",
    "version": 3
   },
   "file_extension": ".py",
   "mimetype": "text/x-python",
   "name": "python",
   "nbconvert_exporter": "python",
   "pygments_lexer": "ipython3",
   "version": "3.11.4"
  },
  "orig_nbformat": 4
 },
 "nbformat": 4,
 "nbformat_minor": 2
}
