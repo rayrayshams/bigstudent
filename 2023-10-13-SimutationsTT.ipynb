{
 "cells": [
  {
   "cell_type": "markdown",
   "metadata": {},
   "source": [
    "---\n",
    "toc: true\n",
    "comments: false\n",
    "layout: post\n",
    "title: Simulations TT\n",
    "type: hacks\n",
    "courses: { compsci: {week: 7} }\n",
    "---"
   ]
  },
  {
   "cell_type": "markdown",
   "metadata": {},
   "source": [
    "# Simulations:\n",
    "## 3.16, 3.17: Simulations and Algorithmic Efficiency"
   ]
  },
  {
   "cell_type": "markdown",
   "metadata": {},
   "source": [
    "<h3> What is a Simulation?</h3>"
   ]
  },
  {
   "cell_type": "markdown",
   "metadata": {},
   "source": [
    "- A simulation, in context of computer science, is a digital representation of a situation in the real world.\n",
    "- Examples:\n",
    "    - Experiments: When an experiment is to dangerous to perform in the real world or too expensive, a simulation can be made of it and be performed digitally.\n",
    "    - Training and Education: Simulations such as flight simulators and medical simulation can be very practical in aiding dangerous proffesions to receive training.\n",
    "    - Video Games: Some video games try to aim to be as releastic as possible with physics and graphics to try to simulate the real world.\n"
   ]
  },
  {
   "cell_type": "markdown",
   "metadata": {},
   "source": [
    "<h3> Simple Dice Roll"
   ]
  },
  {
   "cell_type": "code",
   "execution_count": 44,
   "metadata": {},
   "outputs": [
    {
     "name": "stdout",
     "output_type": "stream",
     "text": [
      "Roll: 4\n"
     ]
    }
   ],
   "source": [
    "import random\n",
    "\n",
    "def roll_die():\n",
    "    return random.randint(1, 6)\n",
    "\n",
    "result = roll_die()\n",
    "print(\"Roll:\", result)\n"
   ]
  },
  {
   "cell_type": "markdown",
   "metadata": {},
   "source": [
    "<h3> Dice Roll"
   ]
  },
  {
   "cell_type": "code",
   "execution_count": 1,
   "metadata": {},
   "outputs": [
    {
     "name": "stdout",
     "output_type": "stream",
     "text": [
      "Rolling the die 2 times:\n",
      "Roll 1 : 2\n",
      "Roll 2 : 1\n"
     ]
    }
   ],
   "source": [
    "import random\n",
    "\n",
    "def roll_die():\n",
    "    return random.randint(1, 6)\n",
    "\n",
    "def main():\n",
    "    num_rolls = int(input(\"How many times would you like to roll the die? \"))\n",
    "    \n",
    "    if num_rolls <= 0:\n",
    "        print(\"Please enter a valid number of rolls.\")\n",
    "        return\n",
    "\n",
    "    print(\"Rolling the die\", num_rolls, \"times:\")\n",
    "    \n",
    "    for i in range(num_rolls):\n",
    "        roll_result = roll_die()\n",
    "        print(\"Roll\", i + 1, \":\", roll_result)\n",
    "\n",
    "if __name__ == \"__main__\":\n",
    "    main()\n"
   ]
  },
  {
   "cell_type": "markdown",
   "metadata": {},
   "source": [
    "## 3.17 Algorithmic Efficiency\n",
    "- A problem is a general description of a task that can (or cannot) be solved algorithmically\n",
    "    - A decision problem is a problem with a yes/no answer\n",
    "    - An optimization problem is a problem with the goal of finding the \"best\" solution among many\n",
    "- Efficiency is an estimate of the amount of computational resources used by an algorithm\n",
    "- An algorithm's efficiency is determined through formal or mathematically reasoning"
   ]
  },
  {
   "cell_type": "markdown",
   "metadata": {},
   "source": [
    "One way do demonstrate how algorithmic efficiency can be used to improve a program is through a simple sorting program. "
   ]
  },
  {
   "cell_type": "markdown",
   "metadata": {},
   "source": [
    "## Bubble Sort\n",
    "Bubble Sort is a simple sorting algorithm that repeatedly steps through the list, compares adjacent elements, and swaps them if they are in the wrong order. The pass through the list is repeated until no swaps are needed, which means the list is sorted."
   ]
  },
  {
   "cell_type": "code",
   "execution_count": 1,
   "metadata": {},
   "outputs": [
    {
     "name": "stdout",
     "output_type": "stream",
     "text": [
      "Bubble Sorted array is: [11, 12, 22, 25, 34, 64, 90]\n"
     ]
    }
   ],
   "source": [
    "def bubble_sort(list):\n",
    "    n = len(list)\n",
    "    for i in range(n):\n",
    "        for j in range(0, n - i - 1):\n",
    "            if list[j] > list[j + 1]:\n",
    "                list[j], list[j + 1] = list[j + 1], list[j]\n",
    "\n",
    "list = [64, 34, 25, 12, 22, 11, 90]\n",
    "bubble_sort(list)\n",
    "print(\"Bubble Sorted listay is:\", list)\n",
    " "
   ]
  },
  {
   "cell_type": "markdown",
   "metadata": {},
   "source": [
    "## Quick Sort\n",
    "Quick Sort is a popular divide-and-conquer sorting algorithm. It divides the array into smaller sub-arrays and recursively sorts them. It's generally more efficient than Bubble Sort for larger lists."
   ]
  },
  {
   "cell_type": "code",
   "execution_count": 2,
   "metadata": {},
   "outputs": [
    {
     "name": "stdout",
     "output_type": "stream",
     "text": [
      "Quick Sorted array is: [11, 12, 22, 25, 34, 64, 90]\n"
     ]
    }
   ],
   "source": [
    "def quick_sort(list):\n",
    "    if len(list) <= 1:\n",
    "        return list\n",
    "    else:\n",
    "        pivot = list[0]\n",
    "        less_than_pivot = [x for x in list[1:] if x <= pivot]\n",
    "        greater_than_pivot = [x for x in list[1:] if x > pivot]\n",
    "        return quick_sort(less_than_pivot) + [pivot] + quick_sort(greater_than_pivot)\n",
    "\n",
    "list = [64, 34, 25, 12, 22, 11, 90]\n",
    "list = quick_sort(list)\n",
    "print(\"Quick Sorted listay is:\", list)\n"
   ]
  },
  {
   "cell_type": "markdown",
   "metadata": {},
   "source": [
    "Now after seeing how each program sorts the list of numbers, which one do you think executed it more efficiently with less steps?"
   ]
  }
 ],
 "metadata": {
  "kernelspec": {
   "display_name": "Python 3",
   "language": "python",
   "name": "python3"
  },
  "language_info": {
   "codemirror_mode": {
    "name": "ipython",
    "version": 3
   },
   "file_extension": ".py",
   "mimetype": "text/x-python",
   "name": "python",
   "nbconvert_exporter": "python",
   "pygments_lexer": "ipython3",
   "version": "3.11.4"
  },
  "orig_nbformat": 4
 },
 "nbformat": 4,
 "nbformat_minor": 2
}
