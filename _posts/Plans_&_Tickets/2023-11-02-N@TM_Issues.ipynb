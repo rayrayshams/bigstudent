{
 "cells": [
  {
   "cell_type": "markdown",
   "metadata": {},
   "source": [
    "---\n",
    "toc: true\n",
    "comments: false\n",
    "layout: post\n",
    "title: Reflection\n",
    "type: hacks\n",
    "courses: { compsci: {week: 12} }\n",
    "---"
   ]
  },
  {
   "cell_type": "markdown",
   "metadata": {},
   "source": [
    "### Rent-A-Car\n",
    "[Issue 1](https://github.com/Swaggerplayer33/Flask-Server-Front-End/issues/12)\n",
    "### Football API\n",
    "[Issue 2](https://github.com/Marcushe31/TeamTalk/issues/1)\n",
    "### Calorie and Meal Plan API\n",
    "[Issue 3](https://github.com/jaydenchen17/ppfrontend/issues/1)"
   ]
  }
 ],
 "metadata": {
  "language_info": {
   "name": "python"
  }
 },
 "nbformat": 4,
 "nbformat_minor": 2
}
