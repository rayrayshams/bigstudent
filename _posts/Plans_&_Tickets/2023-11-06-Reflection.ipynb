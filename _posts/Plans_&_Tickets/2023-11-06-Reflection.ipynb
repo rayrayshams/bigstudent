{
 "cells": [
  {
   "cell_type": "markdown",
   "metadata": {},
   "source": [
    "---\n",
    "toc: true\n",
    "comments: false\n",
    "layout: post\n",
    "title: Reflection\n",
    "type: hacks\n",
    "courses: { compsci: {week: 12} }\n",
    "---"
   ]
  },
  {
   "cell_type": "markdown",
   "metadata": {},
   "source": [
    "\n",
    "# My Contributions to Passion Project\n",
    "### Dev-Ops\n",
    "- Mainly helped Karam on Frontend, solved other issues that were made on the scrum board.\n",
    "- Made significant contributions on Frontend, did most of the javascript for the 2 features we had.\n",
    "\n",
    "### Frontend\n",
    "- Made the programming behind the features on Frontend, did the fetch commands and various other contributions on Frontend.\n",
    "\n",
    "Some of the code that I wrote is shown below.\n"
   ]
  },
  {
   "cell_type": "code",
   "execution_count": null,
   "metadata": {
    "vscode": {
     "languageId": "javascript"
    }
   },
   "outputs": [],
   "source": [
    "// Define a function named searchCard\n",
    "function searchCard() {\n",
    "  // Get the image container element by its ID\n",
    "  const imageContainer = document.getElementById('image-container');\n",
    "  \n",
    "  // Get the value of the card search input field\n",
    "  const cardName = document.getElementById('card-search').value;\n",
    "  \n",
    "  // Get the error message element by its ID\n",
    "  const errorMessage = document.getElementById('error-message');\n",
    "  \n",
    "  // Construct the API URL using the card name\n",
    "  const apiUrl = 'https://clash-flask.stu.nighthawkcodingsociety.com/api/cards/search?query=' + cardName;\n",
    "  \n",
    "  // Fetch data from the API\n",
    "  fetch(apiUrl)\n",
    "    .then(response => response.json()) // Parse the response as JSON\n",
    "    .then(data => {\n",
    "      // Extract the card name from the data\n",
    "      const cardNameFromData = data[0].name;\n",
    "      \n",
    "      // Set the text content of the card name element to the card name from the data\n",
    "      document.getElementById('card-name').textContent = cardNameFromData;\n",
    "      \n",
    "      // Extract the max level from the data\n",
    "      const maxLevelFromData = data[0].maxLevel;\n",
    "      \n",
    "      // Set the text content of the max level element to the max level from the data\n",
    "      document.getElementById('maxlev').textContent = maxLevelFromData;\n",
    "      \n",
    "      // Extract the image URL from the data\n",
    "      const imgURL = data[0].medium; \n",
    "      \n",
    "      // Create a new image element\n",
    "      const img = document.createElement('img');\n",
    "      \n",
    "      // Set the source of the image element to the image URL\n",
    "      img.src = imgURL;\n",
    "      \n",
    "      // Set the source of the card image element to the image URL\n",
    "      document.getElementById('card-image').src = imgURL;\n",
    "    })\n",
    "    .catch(error => {\n",
    "      // If an error occurs, display an error message and log the error to the console\n",
    "      errorMessage.textContent = 'Failed to fetch image. Please try again later.';\n",
    "      console.error('Error:', error);\n",
    "    });\n",
    "}"
   ]
  },
  {
   "cell_type": "markdown",
   "metadata": {},
   "source": [
    "## Passion Project Reflection\n",
    "\n",
    "### Things we did good\n",
    "- Effective Collaboration: Once we started working, we collaborated well as a team. Communication improved, and we were able to share ideas and troubleshoot effectively.\n",
    "- Scrumboard: We had an effective communication system, where we facetimed each night, and we also \n",
    "### Things we did bad\n",
    "- Procrastination: The initial procrastination significantly delayed our progress. This affected the overall timeline of the project and added unnecessary stress towards the end.\n",
    "- Time Management: Our time management skills were lacking in the beginning. If we had better organized our time from the start, we could have achieved more within the given timeframe."
   ]
  },
  {
   "cell_type": "markdown",
   "metadata": {},
   "source": [
    "## Team Teach Reflections/Lessons Learned\n",
    "- The student team teaches that we had every week allowed me to learn basic computer science principles\n",
    "- I was able to learn how to apply the new content and be able to incorporate it into our passion project\n",
    "- When watching the college board videos, I was able to understand the conent that I would be teaching during our team teach\n",
    "- One learning from trimester 1 was watching the college board videos and understanding the basis and foundations of algorithmic effeciency and how it is implemented into most projects\n"
   ]
  },
  {
   "cell_type": "markdown",
   "metadata": {},
   "source": [
    "## Improvements for next trimester\n",
    "For the next trimester in AP CompSci, I'm aiming to make a few improvements. \n",
    "\n",
    "Firstly, I want to address procrastination by incorporating better time management strategies. Breaking down tasks into more manageable chunks and setting clear deadlines should help with that. \n",
    "\n",
    "I also plan to actively engage in class activities to get more work done during class time, hopefully reducing the workload outside of class. \n",
    "\n",
    "Setting clearer goals for each assignment, developing project plans, and using class time more efficiently are on the agenda as well. \n",
    "\n",
    "Regular self-assessment and seeking support when needed are also key components of my strategy for a more successful trimester in this class.\n"
   ]
  }
 ],
 "metadata": {
  "kernelspec": {
   "display_name": "Python 3",
   "language": "python",
   "name": "python3"
  },
  "language_info": {
   "codemirror_mode": {
    "name": "ipython",
    "version": 3
   },
   "file_extension": ".py",
   "mimetype": "text/x-python",
   "name": "python",
   "nbconvert_exporter": "python",
   "pygments_lexer": "ipython3",
   "version": "3.11.4"
  }
 },
 "nbformat": 4,
 "nbformat_minor": 2
}
